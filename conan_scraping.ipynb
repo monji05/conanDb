{
 "cells": [
  {
   "cell_type": "code",
   "execution_count": 1,
   "metadata": {},
   "outputs": [],
   "source": [
    "import pandas as pd"
   ]
  },
  {
   "cell_type": "markdown",
   "metadata": {},
   "source": [
    "コナンの公式ページからコミックの収録話をスクレイピングしたものをpandasで読み込む"
   ]
  },
  {
   "cell_type": "code",
   "execution_count": 2,
   "metadata": {},
   "outputs": [
    {
     "data": {
      "text/html": [
       "<div>\n",
       "<style scoped>\n",
       "    .dataframe tbody tr th:only-of-type {\n",
       "        vertical-align: middle;\n",
       "    }\n",
       "\n",
       "    .dataframe tbody tr th {\n",
       "        vertical-align: top;\n",
       "    }\n",
       "\n",
       "    .dataframe thead th {\n",
       "        text-align: right;\n",
       "    }\n",
       "</style>\n",
       "<table border=\"1\" class=\"dataframe\">\n",
       "  <thead>\n",
       "    <tr style=\"text-align: right;\">\n",
       "      <th></th>\n",
       "      <th>0</th>\n",
       "      <th>1</th>\n",
       "    </tr>\n",
       "  </thead>\n",
       "  <tbody>\n",
       "    <tr>\n",
       "      <th>0</th>\n",
       "      <td>0</td>\n",
       "      <td>ジェットコースター殺人事件</td>\n",
       "    </tr>\n",
       "    <tr>\n",
       "      <th>1</th>\n",
       "      <td>1</td>\n",
       "      <td>社長令嬢誘拐事件</td>\n",
       "    </tr>\n",
       "    <tr>\n",
       "      <th>2</th>\n",
       "      <td>2</td>\n",
       "      <td>アイドル密室殺人事件</td>\n",
       "    </tr>\n",
       "    <tr>\n",
       "      <th>3</th>\n",
       "      <td>3</td>\n",
       "      <td>赤鬼村 火祭殺人事件</td>\n",
       "    </tr>\n",
       "    <tr>\n",
       "      <th>4</th>\n",
       "      <td>4</td>\n",
       "      <td>奇妙な人捜し殺人事件</td>\n",
       "    </tr>\n",
       "  </tbody>\n",
       "</table>\n",
       "</div>"
      ],
      "text/plain": [
       "   0              1\n",
       "0  0  ジェットコースター殺人事件\n",
       "1  1       社長令嬢誘拐事件\n",
       "2  2     アイドル密室殺人事件\n",
       "3  3     赤鬼村 火祭殺人事件\n",
       "4  4     奇妙な人捜し殺人事件"
      ]
     },
     "execution_count": 2,
     "metadata": {},
     "output_type": "execute_result"
    }
   ],
   "source": [
    "df = pd.read_csv(\"caseTitle.csv\",header=None)\n",
    "df.head()"
   ]
  },
  {
   "cell_type": "code",
   "execution_count": 3,
   "metadata": {},
   "outputs": [],
   "source": [
    "df.drop(0,axis=1,inplace=True)"
   ]
  },
  {
   "cell_type": "code",
   "execution_count": 4,
   "metadata": {},
   "outputs": [],
   "source": [
    "df.index = df.index + 1"
   ]
  },
  {
   "cell_type": "markdown",
   "metadata": {},
   "source": [
    "caseTitle.csvのindex番号を1からにしてそれをcsv化"
   ]
  },
  {
   "cell_type": "code",
   "execution_count": 5,
   "metadata": {},
   "outputs": [
    {
     "data": {
      "text/html": [
       "<div>\n",
       "<style scoped>\n",
       "    .dataframe tbody tr th:only-of-type {\n",
       "        vertical-align: middle;\n",
       "    }\n",
       "\n",
       "    .dataframe tbody tr th {\n",
       "        vertical-align: top;\n",
       "    }\n",
       "\n",
       "    .dataframe thead th {\n",
       "        text-align: right;\n",
       "    }\n",
       "</style>\n",
       "<table border=\"1\" class=\"dataframe\">\n",
       "  <thead>\n",
       "    <tr style=\"text-align: right;\">\n",
       "      <th></th>\n",
       "      <th>1</th>\n",
       "    </tr>\n",
       "  </thead>\n",
       "  <tbody>\n",
       "    <tr>\n",
       "      <th>1</th>\n",
       "      <td>ジェットコースター殺人事件</td>\n",
       "    </tr>\n",
       "    <tr>\n",
       "      <th>2</th>\n",
       "      <td>社長令嬢誘拐事件</td>\n",
       "    </tr>\n",
       "    <tr>\n",
       "      <th>3</th>\n",
       "      <td>アイドル密室殺人事件</td>\n",
       "    </tr>\n",
       "    <tr>\n",
       "      <th>4</th>\n",
       "      <td>赤鬼村 火祭殺人事件</td>\n",
       "    </tr>\n",
       "    <tr>\n",
       "      <th>5</th>\n",
       "      <td>奇妙な人捜し殺人事件</td>\n",
       "    </tr>\n",
       "  </tbody>\n",
       "</table>\n",
       "</div>"
      ],
      "text/plain": [
       "               1\n",
       "1  ジェットコースター殺人事件\n",
       "2       社長令嬢誘拐事件\n",
       "3     アイドル密室殺人事件\n",
       "4     赤鬼村 火祭殺人事件\n",
       "5     奇妙な人捜し殺人事件"
      ]
     },
     "execution_count": 5,
     "metadata": {},
     "output_type": "execute_result"
    }
   ],
   "source": [
    "df.to_csv(\"caseTitle1.csv\",header=None)\n",
    "df.head()"
   ]
  },
  {
   "cell_type": "markdown",
   "metadata": {},
   "source": [
    "事件の内容をスクレイピングしたものを読み込む"
   ]
  },
  {
   "cell_type": "code",
   "execution_count": 6,
   "metadata": {},
   "outputs": [
    {
     "data": {
      "text/html": [
       "<div>\n",
       "<style scoped>\n",
       "    .dataframe tbody tr th:only-of-type {\n",
       "        vertical-align: middle;\n",
       "    }\n",
       "\n",
       "    .dataframe tbody tr th {\n",
       "        vertical-align: top;\n",
       "    }\n",
       "\n",
       "    .dataframe thead th {\n",
       "        text-align: right;\n",
       "    }\n",
       "</style>\n",
       "<table border=\"1\" class=\"dataframe\">\n",
       "  <thead>\n",
       "    <tr style=\"text-align: right;\">\n",
       "      <th></th>\n",
       "      <th>0</th>\n",
       "    </tr>\n",
       "  </thead>\n",
       "  <tbody>\n",
       "    <tr>\n",
       "      <th>0</th>\n",
       "      <td>高校生探偵・工藤新一は、幼なじみの蘭と前から約束していたデートのために、トロピカルランドへや...</td>\n",
       "    </tr>\n",
       "    <tr>\n",
       "      <th>1</th>\n",
       "      <td>蘭に連れられてコナンが毛利探偵事務所の前に来ると、小五郎が仕事に出かけるところだった。小五...</td>\n",
       "    </tr>\n",
       "    <tr>\n",
       "      <th>2</th>\n",
       "      <td>仕事もなく暇を持てあましている小五郎の事務所に、アイドル歌手の沖野ヨーコが現れた。ストーカ...</td>\n",
       "    </tr>\n",
       "    <tr>\n",
       "      <th>3</th>\n",
       "      <td>久々に入った仕事を終わらせ、有頂天の小五郎。報酬は三日間の尾行で破格の50万円。だが、尾行し...</td>\n",
       "    </tr>\n",
       "    <tr>\n",
       "      <th>4</th>\n",
       "      <td>毛利探偵事務所に一人の少女が訪ねて来た。広田雅美と名乗る彼女は、父・健三を捜すために上京し...</td>\n",
       "    </tr>\n",
       "  </tbody>\n",
       "</table>\n",
       "</div>"
      ],
      "text/plain": [
       "                                                   0\n",
       "0  高校生探偵・工藤新一は、幼なじみの蘭と前から約束していたデートのために、トロピカルランドへや...\n",
       "1  　蘭に連れられてコナンが毛利探偵事務所の前に来ると、小五郎が仕事に出かけるところだった。小五...\n",
       "2  　仕事もなく暇を持てあましている小五郎の事務所に、アイドル歌手の沖野ヨーコが現れた。ストーカ...\n",
       "3  久々に入った仕事を終わらせ、有頂天の小五郎。報酬は三日間の尾行で破格の50万円。だが、尾行し...\n",
       "4  　毛利探偵事務所に一人の少女が訪ねて来た。広田雅美と名乗る彼女は、父・健三を捜すために上京し..."
      ]
     },
     "execution_count": 6,
     "metadata": {},
     "output_type": "execute_result"
    }
   ],
   "source": [
    "df2 = pd.read_csv(\"case.csv\",\"\\r\",header=None)\n",
    "df2.head()"
   ]
  },
  {
   "cell_type": "code",
   "execution_count": 7,
   "metadata": {},
   "outputs": [],
   "source": [
    "df2.index += 1"
   ]
  },
  {
   "cell_type": "code",
   "execution_count": 8,
   "metadata": {},
   "outputs": [
    {
     "data": {
      "text/html": [
       "<div>\n",
       "<style scoped>\n",
       "    .dataframe tbody tr th:only-of-type {\n",
       "        vertical-align: middle;\n",
       "    }\n",
       "\n",
       "    .dataframe tbody tr th {\n",
       "        vertical-align: top;\n",
       "    }\n",
       "\n",
       "    .dataframe thead th {\n",
       "        text-align: right;\n",
       "    }\n",
       "</style>\n",
       "<table border=\"1\" class=\"dataframe\">\n",
       "  <thead>\n",
       "    <tr style=\"text-align: right;\">\n",
       "      <th></th>\n",
       "      <th>0</th>\n",
       "    </tr>\n",
       "  </thead>\n",
       "  <tbody>\n",
       "    <tr>\n",
       "      <th>1</th>\n",
       "      <td>高校生探偵・工藤新一は、幼なじみの蘭と前から約束していたデートのために、トロピカルランドへや...</td>\n",
       "    </tr>\n",
       "    <tr>\n",
       "      <th>2</th>\n",
       "      <td>蘭に連れられてコナンが毛利探偵事務所の前に来ると、小五郎が仕事に出かけるところだった。小五...</td>\n",
       "    </tr>\n",
       "    <tr>\n",
       "      <th>3</th>\n",
       "      <td>仕事もなく暇を持てあましている小五郎の事務所に、アイドル歌手の沖野ヨーコが現れた。ストーカ...</td>\n",
       "    </tr>\n",
       "    <tr>\n",
       "      <th>4</th>\n",
       "      <td>久々に入った仕事を終わらせ、有頂天の小五郎。報酬は三日間の尾行で破格の50万円。だが、尾行し...</td>\n",
       "    </tr>\n",
       "    <tr>\n",
       "      <th>5</th>\n",
       "      <td>毛利探偵事務所に一人の少女が訪ねて来た。広田雅美と名乗る彼女は、父・健三を捜すために上京し...</td>\n",
       "    </tr>\n",
       "  </tbody>\n",
       "</table>\n",
       "</div>"
      ],
      "text/plain": [
       "                                                   0\n",
       "1  高校生探偵・工藤新一は、幼なじみの蘭と前から約束していたデートのために、トロピカルランドへや...\n",
       "2  　蘭に連れられてコナンが毛利探偵事務所の前に来ると、小五郎が仕事に出かけるところだった。小五...\n",
       "3  　仕事もなく暇を持てあましている小五郎の事務所に、アイドル歌手の沖野ヨーコが現れた。ストーカ...\n",
       "4  久々に入った仕事を終わらせ、有頂天の小五郎。報酬は三日間の尾行で破格の50万円。だが、尾行し...\n",
       "5  　毛利探偵事務所に一人の少女が訪ねて来た。広田雅美と名乗る彼女は、父・健三を捜すために上京し..."
      ]
     },
     "execution_count": 8,
     "metadata": {},
     "output_type": "execute_result"
    }
   ],
   "source": [
    "df2.to_csv(\"case1.csv\",header=None)\n",
    "df2.head()"
   ]
  },
  {
   "cell_type": "markdown",
   "metadata": {},
   "source": [
    "caseTitle1.csvとcase1.csvをつなげる"
   ]
  },
  {
   "cell_type": "code",
   "execution_count": 9,
   "metadata": {},
   "outputs": [],
   "source": [
    "df3 = pd.concat([df,df2],axis=1)"
   ]
  },
  {
   "cell_type": "code",
   "execution_count": 10,
   "metadata": {},
   "outputs": [
    {
     "data": {
      "text/html": [
       "<div>\n",
       "<style scoped>\n",
       "    .dataframe tbody tr th:only-of-type {\n",
       "        vertical-align: middle;\n",
       "    }\n",
       "\n",
       "    .dataframe tbody tr th {\n",
       "        vertical-align: top;\n",
       "    }\n",
       "\n",
       "    .dataframe thead th {\n",
       "        text-align: right;\n",
       "    }\n",
       "</style>\n",
       "<table border=\"1\" class=\"dataframe\">\n",
       "  <thead>\n",
       "    <tr style=\"text-align: right;\">\n",
       "      <th></th>\n",
       "      <th>1</th>\n",
       "      <th>0</th>\n",
       "    </tr>\n",
       "  </thead>\n",
       "  <tbody>\n",
       "    <tr>\n",
       "      <th>289</th>\n",
       "      <td>灰原のストラップの行方</td>\n",
       "      <td>コナンと少年探偵団たちはサッカー観戦後、米花駅まで電車で戻って来る。スタジアムで大ファンの比...</td>\n",
       "    </tr>\n",
       "    <tr>\n",
       "      <th>290</th>\n",
       "      <td>紅の修学旅行</td>\n",
       "      <td>灰原からAPTX4869の解毒剤をもらい、一時的に新一に戻ったコナンは、蘭たちと京都へ修学旅...</td>\n",
       "    </tr>\n",
       "    <tr>\n",
       "      <th>291</th>\n",
       "      <td>たどり着いた正体</td>\n",
       "      <td>APTX4869の解毒薬を飲み、新一の姿で帝丹高校の修学旅行に参加したコナンは、そこで起きた...</td>\n",
       "    </tr>\n",
       "    <tr>\n",
       "      <th>292</th>\n",
       "      <td>黒ウサギ亭には近づくな</td>\n",
       "      <td>対峙する赤井秀一と安室透。その９時間前。脅迫状を受け取った資産家・諸岡郡蔵からの依頼で、コナ...</td>\n",
       "    </tr>\n",
       "    <tr>\n",
       "      <th>293</th>\n",
       "      <td>狙われた女性警察官</td>\n",
       "      <td>警視庁交通部交通執行課に所属している三池苗子は、勤務後に先輩女性警察官の八木紫織と百崎橙子と...</td>\n",
       "    </tr>\n",
       "  </tbody>\n",
       "</table>\n",
       "</div>"
      ],
      "text/plain": [
       "               1                                                  0\n",
       "289  灰原のストラップの行方  コナンと少年探偵団たちはサッカー観戦後、米花駅まで電車で戻って来る。スタジアムで大ファンの比...\n",
       "290       紅の修学旅行  灰原からAPTX4869の解毒剤をもらい、一時的に新一に戻ったコナンは、蘭たちと京都へ修学旅...\n",
       "291     たどり着いた正体  APTX4869の解毒薬を飲み、新一の姿で帝丹高校の修学旅行に参加したコナンは、そこで起きた...\n",
       "292  黒ウサギ亭には近づくな  対峙する赤井秀一と安室透。その９時間前。脅迫状を受け取った資産家・諸岡郡蔵からの依頼で、コナ...\n",
       "293    狙われた女性警察官  警視庁交通部交通執行課に所属している三池苗子は、勤務後に先輩女性警察官の八木紫織と百崎橙子と..."
      ]
     },
     "execution_count": 10,
     "metadata": {},
     "output_type": "execute_result"
    }
   ],
   "source": [
    "df3.tail()"
   ]
  },
  {
   "cell_type": "markdown",
   "metadata": {},
   "source": [
    "カラム名をTitle,Caseに変更"
   ]
  },
  {
   "cell_type": "code",
   "execution_count": 11,
   "metadata": {},
   "outputs": [],
   "source": [
    "df3 = df3.rename(columns={1:\"Title\",0:\"Case\"})"
   ]
  },
  {
   "cell_type": "code",
   "execution_count": 12,
   "metadata": {},
   "outputs": [
    {
     "data": {
      "text/html": [
       "<div>\n",
       "<style scoped>\n",
       "    .dataframe tbody tr th:only-of-type {\n",
       "        vertical-align: middle;\n",
       "    }\n",
       "\n",
       "    .dataframe tbody tr th {\n",
       "        vertical-align: top;\n",
       "    }\n",
       "\n",
       "    .dataframe thead th {\n",
       "        text-align: right;\n",
       "    }\n",
       "</style>\n",
       "<table border=\"1\" class=\"dataframe\">\n",
       "  <thead>\n",
       "    <tr style=\"text-align: right;\">\n",
       "      <th></th>\n",
       "      <th>Title</th>\n",
       "      <th>Case</th>\n",
       "    </tr>\n",
       "  </thead>\n",
       "  <tbody>\n",
       "    <tr>\n",
       "      <th>1</th>\n",
       "      <td>ジェットコースター殺人事件</td>\n",
       "      <td>高校生探偵・工藤新一は、幼なじみの蘭と前から約束していたデートのために、トロピカルランドへや...</td>\n",
       "    </tr>\n",
       "    <tr>\n",
       "      <th>2</th>\n",
       "      <td>社長令嬢誘拐事件</td>\n",
       "      <td>蘭に連れられてコナンが毛利探偵事務所の前に来ると、小五郎が仕事に出かけるところだった。小五...</td>\n",
       "    </tr>\n",
       "    <tr>\n",
       "      <th>3</th>\n",
       "      <td>アイドル密室殺人事件</td>\n",
       "      <td>仕事もなく暇を持てあましている小五郎の事務所に、アイドル歌手の沖野ヨーコが現れた。ストーカ...</td>\n",
       "    </tr>\n",
       "    <tr>\n",
       "      <th>4</th>\n",
       "      <td>赤鬼村 火祭殺人事件</td>\n",
       "      <td>久々に入った仕事を終わらせ、有頂天の小五郎。報酬は三日間の尾行で破格の50万円。だが、尾行し...</td>\n",
       "    </tr>\n",
       "    <tr>\n",
       "      <th>5</th>\n",
       "      <td>奇妙な人捜し殺人事件</td>\n",
       "      <td>毛利探偵事務所に一人の少女が訪ねて来た。広田雅美と名乗る彼女は、父・健三を捜すために上京し...</td>\n",
       "    </tr>\n",
       "  </tbody>\n",
       "</table>\n",
       "</div>"
      ],
      "text/plain": [
       "           Title                                               Case\n",
       "1  ジェットコースター殺人事件  高校生探偵・工藤新一は、幼なじみの蘭と前から約束していたデートのために、トロピカルランドへや...\n",
       "2       社長令嬢誘拐事件  　蘭に連れられてコナンが毛利探偵事務所の前に来ると、小五郎が仕事に出かけるところだった。小五...\n",
       "3     アイドル密室殺人事件  　仕事もなく暇を持てあましている小五郎の事務所に、アイドル歌手の沖野ヨーコが現れた。ストーカ...\n",
       "4     赤鬼村 火祭殺人事件  久々に入った仕事を終わらせ、有頂天の小五郎。報酬は三日間の尾行で破格の50万円。だが、尾行し...\n",
       "5     奇妙な人捜し殺人事件  　毛利探偵事務所に一人の少女が訪ねて来た。広田雅美と名乗る彼女は、父・健三を捜すために上京し..."
      ]
     },
     "execution_count": 12,
     "metadata": {},
     "output_type": "execute_result"
    }
   ],
   "source": [
    "df3.head()"
   ]
  },
  {
   "cell_type": "markdown",
   "metadata": {},
   "source": [
    "1話から最新話まであることを確認"
   ]
  },
  {
   "cell_type": "code",
   "execution_count": 15,
   "metadata": {},
   "outputs": [
    {
     "name": "stdout",
     "output_type": "stream",
     "text": [
      "<class 'pandas.core.frame.DataFrame'>\n",
      "RangeIndex: 293 entries, 1 to 293\n",
      "Data columns (total 2 columns):\n",
      "Title    293 non-null object\n",
      "Case     293 non-null object\n",
      "dtypes: object(2)\n",
      "memory usage: 4.7+ KB\n"
     ]
    }
   ],
   "source": [
    "df3.info()"
   ]
  },
  {
   "cell_type": "code",
   "execution_count": 13,
   "metadata": {},
   "outputs": [],
   "source": [
    "df3.to_csv(\"conanData.csv\")"
   ]
  }
 ],
 "metadata": {
  "kernelspec": {
   "display_name": "Python [conda env:anaconda3]",
   "language": "python",
   "name": "conda-env-anaconda3-py"
  },
  "language_info": {
   "codemirror_mode": {
    "name": "ipython",
    "version": 3
   },
   "file_extension": ".py",
   "mimetype": "text/x-python",
   "name": "python",
   "nbconvert_exporter": "python",
   "pygments_lexer": "ipython3",
   "version": "3.6.4"
  }
 },
 "nbformat": 4,
 "nbformat_minor": 2
}
